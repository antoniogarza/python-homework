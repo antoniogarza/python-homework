{
 "cells": [
  {
   "cell_type": "code",
   "execution_count": 1,
   "id": "900c2fed-bb99-42ed-be93-718f955eeda9",
   "metadata": {},
   "outputs": [
    {
     "name": "stdout",
     "output_type": "stream",
     "text": [
      "Financial Analysis\n",
      "------------------------------------\n",
      "Total Months: 86\n",
      "Net Total:  $38,382,578.00\n",
      "Average Change:  $446,309.05\n",
      "Greatest Increase in Profits:Feb-2012 $1,170,593.00\n",
      "Greatest Decrease in Profits: Sep-2013 $-1,196,225.00\n"
     ]
    }
   ],
   "source": [
    "#imports\n",
    "from pathlib import Path\n",
    "import csv\n",
    "import locale\n",
    "\n",
    "# Total number of months\n",
    "total_months = 0\n",
    "net_total = 0\n",
    "average_pl = 0\n",
    "greatest_increast_amount = 0\n",
    "greatest_increast_date = ''\n",
    "greatest_decrease_amount = 0\n",
    "greatest_decrease_date = ''\n",
    "\n",
    "convert_to_dict = {}\n",
    "\n",
    "\n",
    "# File Path\n",
    "csvpath = Path(\"./Resources/budget_data.csv\")\n",
    "\n",
    "with open(csvpath, \"r\") as csvfile:\n",
    "    \n",
    "    #File reader\n",
    "    csvreader = csv.reader(csvfile, delimiter=\",\")\n",
    "    \n",
    "    #header\n",
    "    csv_header = next(csvreader)\n",
    "    #print(csv_header)\n",
    "    \n",
    "    for row in csvreader:\n",
    "        \n",
    "        #print(row)\n",
    "        date = row[0]\n",
    "        amount = int(row[1])\n",
    "        total_months += 1\n",
    "        net_total += amount\n",
    "        \n",
    "        #convert_to_dict[row[0]] = row[1]\n",
    "        \n",
    "        average_pl = round( net_total / total_months, 2)\n",
    "                    \n",
    "        if greatest_decrease_amount == 0:\n",
    "            greatest_decrease_amount = amount\n",
    "        elif amount < greatest_decrease_amount:\n",
    "            greatest_decrease_amount = amount\n",
    "            greatest_decrease_date = date\n",
    "        elif amount > greatest_increast_amount:\n",
    "            greatest_increast_amount = amount\n",
    "            greatest_increast_date = date\n",
    "            \n",
    "\n",
    "# Financial Analysis\n",
    "print(\"Financial Analysis\")\n",
    "print(\"------------------------------------\")\n",
    "print(f\"Total Months: {total_months}\")\n",
    "print(\"Net Total: \", '${:,.2f}'.format(net_total))\n",
    "print(\"Average Change: \", '${:,.2f}'.format(average_pl))\n",
    "print(f\"Greatest Increase in Profits:{greatest_increast_date}\", '${:,.2f}'.format(greatest_increast_amount))\n",
    "print(f\"Greatest Decrease in Profits: {greatest_decrease_date}\", '${:,.2f}'.format(greatest_decrease_amount))\n",
    "\n",
    "\n",
    "# Result file path\n",
    "result_path = 'result.txt'\n",
    "\n",
    "with open (result_path, 'w') as file:\n",
    "    # Write results to result file\n",
    "    file.write(f\"Financial Analysis \\n\")\n",
    "    file.write(f\"------------------------------------------\\n\")\n",
    "    file.write(f\"Total Months: {total_months} \\n\")\n",
    "    file.write(\"Net Total: \"+ '${:,.2f}'.format(net_total) + \"\\n\" )\n",
    "    file.write(\"Average Change: \" + '${:,.2f}'.format(average_pl) + \"\\n\")\n",
    "    file.write(f\"Greatest Increase in Profits: {greatest_increast_date} \" + '${:,.2f}'.format(greatest_increast_amount) + \"\\n\")\n",
    "    file.write(f\"Greatest Decrease in Profits: {greatest_decrease_date} \" + '${:,.2f}'.format(greatest_decrease_amount) + \"\\n\")\n"
   ]
  },
  {
   "cell_type": "code",
   "execution_count": null,
   "id": "2b162d26-eb70-4976-8ded-f29204493a61",
   "metadata": {},
   "outputs": [],
   "source": []
  }
 ],
 "metadata": {
  "kernelspec": {
   "display_name": "dev",
   "language": "python",
   "name": "dev"
  },
  "language_info": {
   "codemirror_mode": {
    "name": "ipython",
    "version": 3
   },
   "file_extension": ".py",
   "mimetype": "text/x-python",
   "name": "python",
   "nbconvert_exporter": "python",
   "pygments_lexer": "ipython3",
   "version": "3.7.13"
  }
 },
 "nbformat": 4,
 "nbformat_minor": 5
}
